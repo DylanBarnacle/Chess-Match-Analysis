{
  "nbformat": 4,
  "nbformat_minor": 0,
  "metadata": {
    "colab": {
      "name": "Chess match analysis.ipynb",
      "provenance": [],
      "toc_visible": true
    },
    "kernelspec": {
      "name": "python3",
      "display_name": "Python 3"
    }
  },
  "cells": [
    {
      "cell_type": "markdown",
      "metadata": {
        "id": "JLRnxBF0C1Vt"
      },
      "source": [
        "## Chess Match Analysis"
      ]
    },
    {
      "cell_type": "markdown",
      "metadata": {
        "id": "US_r6TcfDCzZ"
      },
      "source": [
        "Primary Purpose: Determine the significance of ELO when it comes to predicting the outcome of a chess match"
      ]
    },
    {
      "cell_type": "markdown",
      "metadata": {
        "id": "00VRJRMwzwSz"
      },
      "source": [
        "Secondary purposes:\n",
        "\n",
        "\n",
        "*   Analyze the effect of time on significance of ELO\n",
        "*   Display correlations between ELO and opening sequence \n",
        "\n"
      ]
    },
    {
      "cell_type": "markdown",
      "metadata": {
        "id": "fIm6yAoZDnSG"
      },
      "source": [
        "# Organzing and Summarizing Data"
      ]
    },
    {
      "cell_type": "code",
      "metadata": {
        "id": "ECnuLZVG9a1q"
      },
      "source": [
        "# Load libraries\n",
        "import pandas as pd\n",
        "import numpy as np\n",
        "\n",
        "import statsmodels.formula.api as sm\n",
        "\n",
        "import seaborn as sns\n",
        "sns.set(style=\"whitegrid\")\n",
        "\n",
        "import matplotlib.pyplot as plt\n",
        "%matplotlib inline"
      ],
      "execution_count": null,
      "outputs": []
    },
    {
      "cell_type": "code",
      "metadata": {
        "colab": {
          "base_uri": "https://localhost:8080/"
        },
        "id": "zrAT1xIn9x6t",
        "outputId": "4b59aeaf-139f-4508-9d61-5dae95d8fd1f"
      },
      "source": [
        "# Create header and display dataframe\n",
        "col_names = [\"WhiteELO\", \"BlackELO\", \"Winner\", \"Time\", \"Result\", \"Opening\"]\n",
        "df = pd.read_csv(\"ChessMatchDataset.csv\", header=0, names=col_names)\n",
        "print(df)"
      ],
      "execution_count": 2,
      "outputs": [
        {
          "output_type": "stream",
          "text": [
            "      WhiteELO  BlackELO Winner   Time     Result Opening\n",
            "0         1500      1191  white   15+2  outoftime     D10\n",
            "1         1322      1261  black   5+10     resign     B00\n",
            "2         1496      1500  white   5+10       mate     C20\n",
            "3         1439      1454  white   20+0       mate     D02\n",
            "4         1523      1469  white   30+3       mate     C41\n",
            "...        ...       ...    ...    ...        ...     ...\n",
            "4995      2220      2157  white  15+10     resign     A84\n",
            "4996      2157      1380  white    5+5       mate     C42\n",
            "4997      2157      1569  white    5+5       mate     C78\n",
            "4998      2157      2000  white    5+5     resign     B01\n",
            "4999      2173      2287  black    9+0     resign     B20\n",
            "\n",
            "[5000 rows x 6 columns]\n"
          ],
          "name": "stdout"
        }
      ]
    },
    {
      "cell_type": "code",
      "metadata": {
        "colab": {
          "base_uri": "https://localhost:8080/"
        },
        "id": "_-RTx7WU-g4V",
        "outputId": "10c2c019-febe-4ad1-e900-3e9e4ad12fe0"
      },
      "source": [
        "# Insert new columns\n",
        "\n",
        "# Generate new column for difference in ELO (White - Black)\n",
        "column_difference = df[\"WhiteELO\"] - df[\"BlackELO\"]\n",
        "df.insert (2, \"DifferenceELO\", column_difference)\n",
        "# Generate new column which equals 1 in cases of white win and 0 in cases of black win or draw\n",
        "df.insert (7, \"WinOrLoss\", 0)\n",
        "count = 0\n",
        "for line in df[\"Winner\"]:\n",
        "  count += 1\n",
        "  if line == \"white\":\n",
        "    df[\"WinOrLoss\"][count-1] = 1\n",
        "# Generate new column which equals 1 in cases of draw and 0 in cases of white or black win\n",
        "df.insert (8, \"Draw\", 0)\n",
        "count = 0\n",
        "for line in df[\"Winner\"]:\n",
        "  count += 1\n",
        "  if line == \"draw\":\n",
        "    df[\"Draw\"][count-1] = 1\n",
        "print(df)"
      ],
      "execution_count": 3,
      "outputs": [
        {
          "output_type": "stream",
          "text": [
            "/usr/local/lib/python3.6/dist-packages/ipykernel_launcher.py:12: SettingWithCopyWarning: \n",
            "A value is trying to be set on a copy of a slice from a DataFrame\n",
            "\n",
            "See the caveats in the documentation: https://pandas.pydata.org/pandas-docs/stable/user_guide/indexing.html#returning-a-view-versus-a-copy\n",
            "  if sys.path[0] == '':\n",
            "/usr/local/lib/python3.6/dist-packages/ipykernel_launcher.py:19: SettingWithCopyWarning: \n",
            "A value is trying to be set on a copy of a slice from a DataFrame\n",
            "\n",
            "See the caveats in the documentation: https://pandas.pydata.org/pandas-docs/stable/user_guide/indexing.html#returning-a-view-versus-a-copy\n"
          ],
          "name": "stderr"
        },
        {
          "output_type": "stream",
          "text": [
            "      WhiteELO  BlackELO  DifferenceELO  ... Opening WinOrLoss Draw\n",
            "0         1500      1191            309  ...     D10         1    0\n",
            "1         1322      1261             61  ...     B00         0    0\n",
            "2         1496      1500             -4  ...     C20         1    0\n",
            "3         1439      1454            -15  ...     D02         1    0\n",
            "4         1523      1469             54  ...     C41         1    0\n",
            "...        ...       ...            ...  ...     ...       ...  ...\n",
            "4995      2220      2157             63  ...     A84         1    0\n",
            "4996      2157      1380            777  ...     C42         1    0\n",
            "4997      2157      1569            588  ...     C78         1    0\n",
            "4998      2157      2000            157  ...     B01         1    0\n",
            "4999      2173      2287           -114  ...     B20         0    0\n",
            "\n",
            "[5000 rows x 9 columns]\n"
          ],
          "name": "stdout"
        }
      ]
    },
    {
      "cell_type": "code",
      "metadata": {
        "colab": {
          "base_uri": "https://localhost:8080/"
        },
        "id": "3K9xR-dr-2_e",
        "outputId": "ebb735cc-d4ed-4c32-d31e-de0c1126c4d9"
      },
      "source": [
        "# Check data types of each column\n",
        "df.info()"
      ],
      "execution_count": 4,
      "outputs": [
        {
          "output_type": "stream",
          "text": [
            "<class 'pandas.core.frame.DataFrame'>\n",
            "RangeIndex: 5000 entries, 0 to 4999\n",
            "Data columns (total 9 columns):\n",
            " #   Column         Non-Null Count  Dtype \n",
            "---  ------         --------------  ----- \n",
            " 0   WhiteELO       5000 non-null   int64 \n",
            " 1   BlackELO       5000 non-null   int64 \n",
            " 2   DifferenceELO  5000 non-null   int64 \n",
            " 3   Winner         5000 non-null   object\n",
            " 4   Time           5000 non-null   object\n",
            " 5   Result         5000 non-null   object\n",
            " 6   Opening        5000 non-null   object\n",
            " 7   WinOrLoss      5000 non-null   int64 \n",
            " 8   Draw           5000 non-null   int64 \n",
            "dtypes: int64(5), object(4)\n",
            "memory usage: 351.7+ KB\n"
          ],
          "name": "stdout"
        }
      ]
    },
    {
      "cell_type": "code",
      "metadata": {
        "colab": {
          "base_uri": "https://localhost:8080/",
          "height": 297
        },
        "id": "4SgbIBeo-6Is",
        "outputId": "5364749d-e2e8-4b2e-dba3-d582428bf3e4"
      },
      "source": [
        "# Display descriptive statistics\n",
        "df.describe()"
      ],
      "execution_count": 5,
      "outputs": [
        {
          "output_type": "execute_result",
          "data": {
            "text/html": [
              "<div>\n",
              "<style scoped>\n",
              "    .dataframe tbody tr th:only-of-type {\n",
              "        vertical-align: middle;\n",
              "    }\n",
              "\n",
              "    .dataframe tbody tr th {\n",
              "        vertical-align: top;\n",
              "    }\n",
              "\n",
              "    .dataframe thead th {\n",
              "        text-align: right;\n",
              "    }\n",
              "</style>\n",
              "<table border=\"1\" class=\"dataframe\">\n",
              "  <thead>\n",
              "    <tr style=\"text-align: right;\">\n",
              "      <th></th>\n",
              "      <th>WhiteELO</th>\n",
              "      <th>BlackELO</th>\n",
              "      <th>DifferenceELO</th>\n",
              "      <th>WinOrLoss</th>\n",
              "      <th>Draw</th>\n",
              "    </tr>\n",
              "  </thead>\n",
              "  <tbody>\n",
              "    <tr>\n",
              "      <th>count</th>\n",
              "      <td>5000.000000</td>\n",
              "      <td>5000.00000</td>\n",
              "      <td>5000.00000</td>\n",
              "      <td>5000.000000</td>\n",
              "      <td>5000.000000</td>\n",
              "    </tr>\n",
              "    <tr>\n",
              "      <th>mean</th>\n",
              "      <td>1546.816200</td>\n",
              "      <td>1543.28840</td>\n",
              "      <td>3.52780</td>\n",
              "      <td>0.493000</td>\n",
              "      <td>0.046600</td>\n",
              "    </tr>\n",
              "    <tr>\n",
              "      <th>std</th>\n",
              "      <td>298.826043</td>\n",
              "      <td>303.78815</td>\n",
              "      <td>255.12811</td>\n",
              "      <td>0.500001</td>\n",
              "      <td>0.210802</td>\n",
              "    </tr>\n",
              "    <tr>\n",
              "      <th>min</th>\n",
              "      <td>784.000000</td>\n",
              "      <td>791.00000</td>\n",
              "      <td>-1223.00000</td>\n",
              "      <td>0.000000</td>\n",
              "      <td>0.000000</td>\n",
              "    </tr>\n",
              "    <tr>\n",
              "      <th>25%</th>\n",
              "      <td>1331.000000</td>\n",
              "      <td>1327.00000</td>\n",
              "      <td>-112.00000</td>\n",
              "      <td>0.000000</td>\n",
              "      <td>0.000000</td>\n",
              "    </tr>\n",
              "    <tr>\n",
              "      <th>50%</th>\n",
              "      <td>1501.000000</td>\n",
              "      <td>1500.00000</td>\n",
              "      <td>0.00000</td>\n",
              "      <td>0.000000</td>\n",
              "      <td>0.000000</td>\n",
              "    </tr>\n",
              "    <tr>\n",
              "      <th>75%</th>\n",
              "      <td>1744.000000</td>\n",
              "      <td>1744.00000</td>\n",
              "      <td>113.25000</td>\n",
              "      <td>1.000000</td>\n",
              "      <td>0.000000</td>\n",
              "    </tr>\n",
              "    <tr>\n",
              "      <th>max</th>\n",
              "      <td>2621.000000</td>\n",
              "      <td>2723.00000</td>\n",
              "      <td>1471.00000</td>\n",
              "      <td>1.000000</td>\n",
              "      <td>1.000000</td>\n",
              "    </tr>\n",
              "  </tbody>\n",
              "</table>\n",
              "</div>"
            ],
            "text/plain": [
              "          WhiteELO    BlackELO  DifferenceELO    WinOrLoss         Draw\n",
              "count  5000.000000  5000.00000     5000.00000  5000.000000  5000.000000\n",
              "mean   1546.816200  1543.28840        3.52780     0.493000     0.046600\n",
              "std     298.826043   303.78815      255.12811     0.500001     0.210802\n",
              "min     784.000000   791.00000    -1223.00000     0.000000     0.000000\n",
              "25%    1331.000000  1327.00000     -112.00000     0.000000     0.000000\n",
              "50%    1501.000000  1500.00000        0.00000     0.000000     0.000000\n",
              "75%    1744.000000  1744.00000      113.25000     1.000000     0.000000\n",
              "max    2621.000000  2723.00000     1471.00000     1.000000     1.000000"
            ]
          },
          "metadata": {
            "tags": []
          },
          "execution_count": 5
        }
      ]
    },
    {
      "cell_type": "code",
      "metadata": {
        "id": "IgB6OSiMEAIk",
        "colab": {
          "base_uri": "https://localhost:8080/"
        },
        "outputId": "1b337e2c-4851-41b6-c368-ee6ce447f874"
      },
      "source": [
        "# Summarize non-integer variables \n",
        "df.Winner.value_counts()"
      ],
      "execution_count": 6,
      "outputs": [
        {
          "output_type": "execute_result",
          "data": {
            "text/plain": [
              "white    2465\n",
              "black    2302\n",
              "draw      233\n",
              "Name: Winner, dtype: int64"
            ]
          },
          "metadata": {
            "tags": []
          },
          "execution_count": 6
        }
      ]
    },
    {
      "cell_type": "code",
      "metadata": {
        "colab": {
          "base_uri": "https://localhost:8080/"
        },
        "id": "MjhoZucqgrYZ",
        "outputId": "ea382556-9430-47da-da21-8e6b5b800869"
      },
      "source": [
        "df.Time.value_counts()\n",
        "# The number before the + signifies the starting time in minutes per player\n",
        "# The number after the + signifies the added time after each move in seconds per player"
      ],
      "execution_count": 7,
      "outputs": [
        {
          "output_type": "execute_result",
          "data": {
            "text/plain": [
              "10+0      2190\n",
              "15+15      283\n",
              "15+0       279\n",
              "5+5        175\n",
              "10+5       142\n",
              "          ... \n",
              "10+180       1\n",
              "60+30        1\n",
              "11+8         1\n",
              "30+25        1\n",
              "12+10        1\n",
              "Name: Time, Length: 209, dtype: int64"
            ]
          },
          "metadata": {
            "tags": []
          },
          "execution_count": 7
        }
      ]
    },
    {
      "cell_type": "code",
      "metadata": {
        "colab": {
          "base_uri": "https://localhost:8080/"
        },
        "id": "r2rCerYHgr16",
        "outputId": "5494ea27-098f-4f44-a25d-fcde3401c238"
      },
      "source": [
        "df.Result.value_counts()"
      ],
      "execution_count": 8,
      "outputs": [
        {
          "output_type": "execute_result",
          "data": {
            "text/plain": [
              "resign       2703\n",
              "mate         1710\n",
              "outoftime     368\n",
              "draw          219\n",
              "Name: Result, dtype: int64"
            ]
          },
          "metadata": {
            "tags": []
          },
          "execution_count": 8
        }
      ]
    },
    {
      "cell_type": "code",
      "metadata": {
        "colab": {
          "base_uri": "https://localhost:8080/"
        },
        "id": "ohwak7fggufM",
        "outputId": "8d8919b7-98af-4b6d-ed72-e59abf204958"
      },
      "source": [
        "df.Opening.value_counts()\n",
        "# These are ECO values which represent a specific opening sequence consisiting of moves by both players\n",
        "# link to ECO code database: https://www.365chess.com/eco.php "
      ],
      "execution_count": 27,
      "outputs": [
        {
          "output_type": "execute_result",
          "data": {
            "text/plain": [
              "A00    243\n",
              "B01    230\n",
              "C00    212\n",
              "D00    203\n",
              "C20    192\n",
              "      ... \n",
              "B88      1\n",
              "D70      1\n",
              "E44      1\n",
              "A33      1\n",
              "E01      1\n",
              "Name: Opening, Length: 276, dtype: int64"
            ]
          },
          "metadata": {
            "tags": []
          },
          "execution_count": 27
        }
      ]
    },
    {
      "cell_type": "markdown",
      "metadata": {
        "id": "otXWtul3EPHq"
      },
      "source": [
        "# Visualizing Data"
      ]
    },
    {
      "cell_type": "code",
      "metadata": {
        "id": "3nooqSdiEUQG",
        "colab": {
          "base_uri": "https://localhost:8080/",
          "height": 869
        },
        "outputId": "0ae2f12b-2eb6-477f-cd2a-2b80fe78071f"
      },
      "source": [
        "# Distribution of ELO and difference in ELO\n",
        "sns.histplot(df[\"WhiteELO\"], color = \"blue\")\n",
        "plt.xlabel(\"ELO\")\n",
        "plt.ylabel(\"Count\")\n",
        "plt.title(\"Distribution of White ELO\")\n",
        "plt.show()\n",
        "sns.histplot(df[\"BlackELO\"], color = \"green\")\n",
        "plt.xlabel(\"ELO\")\n",
        "plt.ylabel(\"Count\")\n",
        "plt.title(\"Distribution of Black ELO\")\n",
        "plt.show()\n",
        "sns.histplot(df[\"DifferenceELO\"], color = \"red\")\n",
        "plt.xlabel(\"ELO Difference\")\n",
        "plt.ylabel(\"Count\")\n",
        "plt.title(\"Distribution of Difference in ELO\")\n",
        "plt.show()"
      ],
      "execution_count": 10,
      "outputs": [
        {
          "output_type": "display_data",
          "data": {
            "image/png": "[encoded data removed]",
            "text/plain": [
              "<Figure size 432x288 with 1 Axes>"
            ]
          },
          "metadata": {
            "tags": [],
            "needs_background": "light"
          }
        },
        {
          "output_type": "display_data",
          "data": {
            "image/png": "[encoded data removed]",
            "text/plain": [
              "<Figure size 432x288 with 1 Axes>"
            ]
          },
          "metadata": {
            "tags": [],
            "needs_background": "light"
          }
        },
        {
          "output_type": "display_data",
          "data": {
            "image/png": "[encoded data removed]",
            "text/plain": [
              "<Figure size 432x288 with 1 Axes>"
            ]
          },
          "metadata": {
            "tags": [],
            "needs_background": "light"
          }
        }
      ]
    },
    {
      "cell_type": "markdown",
      "metadata": {
        "id": "DajPhAEClPBC"
      },
      "source": [
        "# ELO Difference and Result Analysis"
      ]
    },
    {
      "cell_type": "code",
      "metadata": {
        "colab": {
          "base_uri": "https://localhost:8080/",
          "height": 540
        },
        "id": "RPVSQpM7hSAm",
        "outputId": "92e2490a-146a-4980-cc3e-d642ea65ffb3"
      },
      "source": [
        "# Find win percentages based on ranges of difference in ELO\n",
        "bins = pd.cut(df[\"DifferenceELO\"], [-1000, -500, -250, -200, -150, -100, -50, 0, 50, 100, 150, 200, 250, 500, 1000])\n",
        "df.groupby(bins)[\"WinOrLoss\"].mean().plot.barh()\n",
        "plt.show()\n",
        "df.groupby(bins)[\"WinOrLoss\"].mean()"
      ],
      "execution_count": 22,
      "outputs": [
        {
          "output_type": "display_data",
          "data": {
            "image/png": "[encoded data removed]",
            "text/plain": [
              "<Figure size 432x288 with 1 Axes>"
            ]
          },
          "metadata": {
            "tags": [],
            "needs_background": "light"
          }
        },
        {
          "output_type": "execute_result",
          "data": {
            "text/plain": [
              "DifferenceELO\n",
              "(-1000, -500]    0.156250\n",
              "(-500, -250]     0.231111\n",
              "(-250, -200]     0.241935\n",
              "(-200, -150]     0.311321\n",
              "(-150, -100]     0.366366\n",
              "(-100, -50]      0.395402\n",
              "(-50, 0]         0.498630\n",
              "(0, 50]          0.482143\n",
              "(50, 100]        0.577825\n",
              "(100, 150]       0.585670\n",
              "(150, 200]       0.648515\n",
              "(200, 250]       0.762431\n",
              "(250, 500]       0.769737\n",
              "(500, 1000]      0.859551\n",
              "Name: WinOrLoss, dtype: float64"
            ]
          },
          "metadata": {
            "tags": []
          },
          "execution_count": 22
        }
      ]
    },
    {
      "cell_type": "code",
      "metadata": {
        "colab": {
          "base_uri": "https://localhost:8080/",
          "height": 540
        },
        "id": "rME0REh9oz4z",
        "outputId": "2c93e331-e83c-4b52-f708-d0881a75e859"
      },
      "source": [
        "# Find draw percentages based on ranges of difference in ELO\n",
        "bins = pd.cut(df[\"DifferenceELO\"], [-1000, -500, -250, -200, -150, -100, -50, 0, 50, 100, 150, 200, 250, 500, 1000])\n",
        "df.groupby(bins)[\"Draw\"].mean().plot.barh()\n",
        "plt.show()\n",
        "df.groupby(bins)[\"Draw\"].mean()"
      ],
      "execution_count": 12,
      "outputs": [
        {
          "output_type": "display_data",
          "data": {
            "image/png": "[encoded data removed]",
            "text/plain": [
              "<Figure size 432x288 with 1 Axes>"
            ]
          },
          "metadata": {
            "tags": [],
            "needs_background": "light"
          }
        },
        {
          "output_type": "execute_result",
          "data": {
            "text/plain": [
              "DifferenceELO\n",
              "(-1000, -500]    0.018750\n",
              "(-500, -250]     0.028889\n",
              "(-250, -200]     0.048387\n",
              "(-200, -150]     0.051887\n",
              "(-150, -100]     0.051051\n",
              "(-100, -50]      0.050575\n",
              "(-50, 0]         0.049315\n",
              "(0, 50]          0.056548\n",
              "(50, 100]        0.046908\n",
              "(100, 150]       0.046729\n",
              "(150, 200]       0.039604\n",
              "(200, 250]       0.060773\n",
              "(250, 500]       0.046053\n",
              "(500, 1000]      0.039326\n",
              "Name: Draw, dtype: float64"
            ]
          },
          "metadata": {
            "tags": []
          },
          "execution_count": 12
        }
      ]
    },
    {
      "cell_type": "markdown",
      "metadata": {
        "id": "4rJ8zkARrOQX"
      },
      "source": [
        "# Time Effect on Outcome Variability"
      ]
    },
    {
      "cell_type": "code",
      "metadata": {
        "colab": {
          "base_uri": "https://localhost:8080/",
          "height": 1000
        },
        "id": "UzULIaU9tKLQ",
        "outputId": "98dfb4f7-dac1-4f65-bddd-ab48c59f3dce"
      },
      "source": [
        "df10_0 = df.query(\"Time == '10+0'\")\n",
        "df15_15 = df.query(\"Time == '15+5'\")\n",
        "df15_0 = df.query(\"Time == '15+0'\")\n",
        "df5_5 = df.query(\"Time == '5+5'\")\n",
        "df10_5 = df.query(\"Time == '10+5'\")\n",
        "bins10_0 = pd.cut(df10_0[\"DifferenceELO\"], [-1000, -500, -250, -200, -150, -100, -50, 0, 50, 100, 150, 200, 250, 500, 1000])\n",
        "df10_0.groupby(bins10_0)[\"WinOrLoss\"].mean().plot.barh(color = \"blue\")\n",
        "plt.show()\n",
        "bins15_15 = pd.cut(df15_15[\"DifferenceELO\"], [-1000, -500, -250, -200, -150, -100, -50, 0, 50, 100, 150, 200, 250, 500, 1000])\n",
        "df15_15.groupby(bins15_15)[\"WinOrLoss\"].mean().plot.barh(color = \"red\")\n",
        "plt.show()\n",
        "bins15_0 = pd.cut(df15_0[\"DifferenceELO\"], [-1000, -500, -250, -200, -150, -100, -50, 0, 50, 100, 150, 200, 250, 500, 1000])\n",
        "df15_0.groupby(bins15_0)[\"WinOrLoss\"].mean().plot.barh(color = \"green\")\n",
        "plt.show()\n",
        "bins5_5 = pd.cut(df5_5[\"DifferenceELO\"], [-1000, -500, -250, -200, -150, -100, -50, 0, 50, 100, 150, 200, 250, 500, 1000])\n",
        "df5_5.groupby(bins5_5)[\"WinOrLoss\"].mean().plot.barh(color = \"orange\")\n",
        "plt.show()\n",
        "bins10_5 = pd.cut(df10_5[\"DifferenceELO\"], [-1000, -500, -250, -200, -150, -100, -50, 0, 50, 100, 150, 200, 250, 500, 1000])\n",
        "df10_5.groupby(bins10_5)[\"WinOrLoss\"].mean().plot.barh(color = \"purple\")\n",
        "plt.show()"
      ],
      "execution_count": 13,
      "outputs": [
        {
          "output_type": "display_data",
          "data": {
            "image/png": "[encoded data removed]",
            "text/plain": [
              "<Figure size 432x288 with 1 Axes>"
            ]
          },
          "metadata": {
            "tags": [],
            "needs_background": "light"
          }
        },
        {
          "output_type": "display_data",
          "data": {
            "image/png": "[encoded data removed]",
            "text/plain": [
              "<Figure size 432x288 with 1 Axes>"
            ]
          },
          "metadata": {
            "tags": [],
            "needs_background": "light"
          }
        },
        {
          "output_type": "display_data",
          "data": {
            "image/png": "[encoded data removed]",
            "text/plain": [
              "<Figure size 432x288 with 1 Axes>"
            ]
          },
          "metadata": {
            "tags": [],
            "needs_background": "light"
          }
        },
        {
          "output_type": "display_data",
          "data": {
            "image/png": "[encoded data removed]",
            "text/plain": [
              "<Figure size 432x288 with 1 Axes>"
            ]
          },
          "metadata": {
            "tags": [],
            "needs_background": "light"
          }
        },
        {
          "output_type": "display_data",
          "data": {
            "image/png": "[encoded data removed]",
            "text/plain": [
              "<Figure size 432x288 with 1 Axes>"
            ]
          },
          "metadata": {
            "tags": [],
            "needs_background": "light"
          }
        }
      ]
    },
    {
      "cell_type": "markdown",
      "metadata": {
        "id": "5ey-386WtKpw"
      },
      "source": [
        "# ELO and Opening Sequence Correlation"
      ]
    },
    {
      "cell_type": "code",
      "metadata": {
        "id": "tXzMzt-9tTMZ"
      },
      "source": [
        "# Generate new collumn for total ELO \n",
        "column_sum = df[\"WhiteELO\"] + df[\"BlackELO\"]\n",
        "df.insert (9, \"TotalELO\", column_sum)"
      ],
      "execution_count": 14,
      "outputs": []
    },
    {
      "cell_type": "code",
      "metadata": {
        "colab": {
          "base_uri": "https://localhost:8080/"
        },
        "id": "EWV5EdNFV-AC",
        "outputId": "90a222f4-7b5a-4d58-8edc-d4ab407286ed"
      },
      "source": [
        "# Run OLS regression\n",
        "result = sm.ols(formula=\"TotalELO ~ Opening\", data=df).fit()\n",
        "print(result.summary())"
      ],
      "execution_count": 18,
      "outputs": [
        {
          "output_type": "stream",
          "text": [
            "                            OLS Regression Results                            \n",
            "==============================================================================\n",
            "Dep. Variable:               TotalELO   R-squared:                       0.205\n",
            "Model:                            OLS   Adj. R-squared:                  0.158\n",
            "Method:                 Least Squares   F-statistic:                     4.422\n",
            "Date:                Thu, 14 Jan 2021   Prob (F-statistic):          4.12e-101\n",
            "Time:                        14:47:10   Log-Likelihood:                -38034.\n",
            "No. Observations:                5000   AIC:                         7.662e+04\n",
            "Df Residuals:                    4724   BIC:                         7.842e+04\n",
            "Df Model:                         275                                         \n",
            "Covariance Type:            nonrobust                                         \n",
            "==================================================================================\n",
            "                     coef    std err          t      P>|t|      [0.025      0.975]\n",
            "----------------------------------------------------------------------------------\n",
            "Intercept       2814.4115     32.130     87.596      0.000    2751.422    2877.401\n",
            "Opening[T.A01]   358.1537     80.533      4.447      0.000     200.271     516.037\n",
            "Opening[T.A02]   554.1996    122.346      4.530      0.000     314.344     794.055\n",
            "Opening[T.A03]   448.4120    125.652      3.569      0.000     202.076     694.748\n",
            "Opening[T.A04]   424.2268     60.835      6.973      0.000     304.961     543.493\n",
            "Opening[T.A05]   644.5885    206.981      3.114      0.002     238.810    1050.367\n",
            "Opening[T.A06]   235.6129     84.562      2.786      0.005      69.833     401.393\n",
            "Opening[T.A07]   622.2248    154.392      4.030      0.000     319.544     924.906\n",
            "Opening[T.A08]   826.5218    133.251      6.203      0.000     565.288    1087.756\n",
            "Opening[T.A09]   316.0885    252.478      1.252      0.211    -178.887     811.064\n",
            "Opening[T.A10]   147.9363     80.533      1.837      0.066      -9.947     305.819\n",
            "Opening[T.A11]   461.9218    206.981      2.232      0.026      56.143     867.700\n",
            "Opening[T.A13]   520.8385    148.110      3.517      0.000     230.473     811.204\n",
            "Opening[T.A15]   526.5051    148.110      3.555      0.000     236.140     816.870\n",
            "Opening[T.A16]  1053.3885    226.280      4.655      0.000     609.774    1497.003\n",
            "Opening[T.A17]   586.8385    252.478      2.324      0.020      91.863    1081.814\n",
            "Opening[T.A20]   285.1269     86.397      3.300      0.001     115.749     454.505\n",
            "Opening[T.A21]   130.1767    125.652      1.036      0.300    -116.159     376.512\n",
            "Opening[T.A22]   288.5885    111.511      2.588      0.010      69.975     507.202\n",
            "Opening[T.A25]    77.8385    252.478      0.308      0.758    -417.137     572.814\n",
            "Opening[T.A27]   -39.0115    226.280     -0.172      0.863    -482.626     404.603\n",
            "Opening[T.A28]   275.3885    226.280      1.217      0.224    -168.226     719.003\n",
            "Opening[T.A29]   497.5885    252.478      1.971      0.049       2.613     992.564\n",
            "Opening[T.A30]   -23.6337    170.014     -0.139      0.889    -356.940     309.673\n",
            "Opening[T.A31]   380.5885    501.881      0.758      0.448    -603.332    1364.509\n",
            "Opening[T.A33]  1305.5885    501.881      2.601      0.009     321.668    2289.509\n",
            "Opening[T.A34]   686.2551    290.946      2.359      0.018     115.865    1256.645\n",
            "Opening[T.A35]   561.5885    290.946      1.930      0.054      -8.802    1131.978\n",
            "Opening[T.A36]   569.0885    355.610      1.600      0.110    -128.072    1266.249\n",
            "Opening[T.A38]   330.5885    501.881      0.659      0.510    -653.332    1314.509\n",
            "Opening[T.A39]  1108.0885    355.610      3.116      0.002     410.928    1805.249\n",
            "Opening[T.A40]   164.9088     54.700      3.015      0.003      57.671     272.146\n",
            "Opening[T.A41]   186.5885    125.652      1.485      0.138     -59.747     432.924\n",
            "Opening[T.A42]   918.3385    252.478      3.637      0.000     423.363    1413.314\n",
            "Opening[T.A43]   431.3385    116.511      3.702      0.000     202.922     659.755\n",
            "Opening[T.A44]   471.5885    501.881      0.940      0.347    -512.332    1455.509\n",
            "Opening[T.A45]   378.0778     79.810      4.737      0.000     221.614     534.542\n",
            "Opening[T.A46]   783.9218    148.110      5.293      0.000     493.557    1074.287\n",
            "Opening[T.A47]  -145.4115    501.881     -0.290      0.772   -1129.332     838.509\n",
            "Opening[T.A48]   580.0170    192.011      3.021      0.003     203.586     956.449\n",
            "Opening[T.A49]   326.8385    252.478      1.295      0.196    -168.137     821.814\n",
            "Opening[T.A50]    93.5885    290.946      0.322      0.748    -476.802     663.978\n",
            "Opening[T.A51]   458.9218    290.946      1.577      0.115    -111.468    1029.312\n",
            "Opening[T.A52]   715.4774    170.014      4.208      0.000     382.171    1048.784\n",
            "Opening[T.A53]   535.9885    226.280      2.369      0.018      92.374     979.603\n",
            "Opening[T.A56]   891.7135    179.969      4.955      0.000     538.891    1244.536\n",
            "Opening[T.A57]  1019.0885    355.610      2.866      0.004     321.928    1716.249\n",
            "Opening[T.A58]  1757.0885    355.610      4.941      0.000    1059.928    2454.249\n",
            "Opening[T.A60]   590.5885    501.881      1.177      0.239    -393.332    1574.509\n",
            "Opening[T.A65]   764.5885    501.881      1.523      0.128    -219.332    1748.509\n",
            "Opening[T.A67]  1531.5885    501.881      3.052      0.002     547.668    2515.509\n",
            "Opening[T.A71]  1973.5885    501.881      3.932      0.000     989.668    2957.509\n",
            "Opening[T.A73]   -61.4115    501.881     -0.122      0.903   -1045.332     922.509\n",
            "Opening[T.A80]   353.4218    206.981      1.708      0.088     -52.357     759.200\n",
            "Opening[T.A81]   309.5885    501.881      0.617      0.537    -674.332    1293.509\n",
            "Opening[T.A84]  1062.5885    355.610      2.988      0.003     365.428    1759.749\n",
            "Opening[T.A85]   904.7885    226.280      3.999      0.000     461.174    1348.403\n",
            "Opening[T.A97]  1706.5885    501.881      3.400      0.001     722.668    2690.509\n",
            "Opening[T.A99]  1461.5885    501.881      2.912      0.004     477.668    2445.509\n",
            "Opening[T.B00]   115.4240     51.794      2.229      0.026      13.883     216.965\n",
            "Opening[T.B01]   159.4189     46.076      3.460      0.001      69.089     249.749\n",
            "Opening[T.B02]  -122.7925     83.696     -1.467      0.142    -286.875      41.290\n",
            "Opening[T.B03]   441.4218    206.981      2.133      0.033      35.643     847.200\n",
            "Opening[T.B04]   312.5885    501.881      0.623      0.533    -671.332    1296.509\n",
            "Opening[T.B05]   181.5885    501.881      0.362      0.718    -802.332    1165.509\n",
            "Opening[T.B06]   138.1234     82.862      1.667      0.096     -24.324     300.571\n",
            "Opening[T.B07]   372.3788     71.262      5.225      0.000     232.672     512.086\n",
            "Opening[T.B08]   597.4456    192.011      3.112      0.002     221.014     973.877\n",
            "Opening[T.B09]  1272.0885    252.478      5.038      0.000     777.113    1767.064\n",
            "Opening[T.B10]   194.7944     91.708      2.124      0.034      15.004     374.584\n",
            "Opening[T.B11]   691.3885    226.280      3.055      0.002     247.774    1135.003\n",
            "Opening[T.B12]   397.2551     96.923      4.099      0.000     207.241     587.269\n",
            "Opening[T.B13]   652.7218    133.251      4.898      0.000     391.488     913.956\n",
            "Opening[T.B14]   742.2551    290.946      2.551      0.011     171.865    1312.645\n",
            "Opening[T.B15]   592.8107    170.014      3.487      0.000     259.504     926.117\n",
            "Opening[T.B17]  1476.5885    501.881      2.942      0.003     492.668    2460.509\n",
            "Opening[T.B18]   558.9635    179.969      3.106      0.002     206.141     911.786\n",
            "Opening[T.B20]   255.2814     54.841      4.655      0.000     147.768     362.795\n",
            "Opening[T.B21]   347.1354     70.370      4.933      0.000     209.178     485.092\n",
            "Opening[T.B22]   759.2685    105.197      7.218      0.000     553.033     965.503\n",
            "Opening[T.B23]   140.2181    101.603      1.380      0.168     -58.971     339.407\n",
            "Opening[T.B24]   854.5885    501.881      1.703      0.089    -129.332    1838.509\n",
            "Opening[T.B25]   378.4976    154.392      2.452      0.014      75.816     681.179\n",
            "Opening[T.B27]   235.3218    133.251      1.766      0.077     -25.912     496.556\n",
            "Opening[T.B28]   667.1599    192.011      3.475      0.001     290.728    1043.591\n",
            "Opening[T.B29]  -119.7449    290.946     -0.412      0.681    -690.135     450.645\n",
            "Opening[T.B30]   442.2737     75.351      5.870      0.000     294.551     589.996\n",
            "Opening[T.B31]   725.8742    192.011      3.780      0.000     349.443    1102.306\n",
            "Opening[T.B32]   451.2551    107.166      4.211      0.000     241.161     661.350\n",
            "Opening[T.B33]  1256.9218    170.014      7.393      0.000     923.615    1590.228\n",
            "Opening[T.B34]   442.3742    137.660      3.214      0.001     172.496     712.252\n",
            "Opening[T.B35]  1063.2551    290.946      3.654      0.000     492.865    1633.645\n",
            "Opening[T.B36]   905.5885    501.881      1.804      0.071     -78.332    1889.509\n",
            "Opening[T.B38]   763.5885    355.610      2.147      0.032      66.428    1460.749\n",
            "Opening[T.B40]   574.0430     92.919      6.178      0.000     391.879     756.207\n",
            "Opening[T.B41]   863.8385    252.478      3.421      0.001     368.863    1358.814\n",
            "Opening[T.B42]  -145.4115    501.881     -0.290      0.772   -1129.332     838.509\n",
            "Opening[T.B43]  1005.1718    148.110      6.787      0.000     714.807    1295.537\n",
            "Opening[T.B44]   464.5885    501.881      0.926      0.355    -519.332    1448.509\n",
            "Opening[T.B45]  1055.5885    226.280      4.665      0.000     611.974    1499.203\n",
            "Opening[T.B46]   563.5885    252.478      2.232      0.026      68.613    1058.564\n",
            "Opening[T.B50]   550.3055     75.930      7.248      0.000     401.447     699.164\n",
            "Opening[T.B51]   541.0885    355.610      1.522      0.128    -156.072    1238.249\n",
            "Opening[T.B52]    78.2551    148.110      0.528      0.597    -212.110     368.620\n",
            "Opening[T.B53]   526.4218    206.981      2.543      0.011     120.643     932.200\n",
            "Opening[T.B54]   703.1339    111.511      6.306      0.000     484.521     921.747\n",
            "Opening[T.B56]   429.8385    252.478      1.702      0.089     -65.137     924.814\n",
            "Opening[T.B57]   470.5885    179.969      2.615      0.009     117.766     823.411\n",
            "Opening[T.B70]   160.1885    226.280      0.708      0.479    -283.426     603.803\n",
            "Opening[T.B71]   921.5885    501.881      1.836      0.066     -62.332    1905.509\n",
            "Opening[T.B72]   733.8385    252.478      2.907      0.004     238.863    1228.814\n",
            "Opening[T.B74]  1540.5885    501.881      3.070      0.002     556.668    2524.509\n",
            "Opening[T.B75]  -296.4115    501.881     -0.591      0.555   -1280.332     687.509\n",
            "Opening[T.B76]   606.5885    501.881      1.209      0.227    -377.332    1590.509\n",
            "Opening[T.B77]   131.5885    355.610      0.370      0.711    -565.572     828.749\n",
            "Opening[T.B78]  1569.5885    501.881      3.127      0.002     585.668    2553.509\n",
            "Opening[T.B80]   383.5885    355.610      1.079      0.281    -313.572    1080.749\n",
            "Opening[T.B81]   410.5885    501.881      0.818      0.413    -573.332    1394.509\n",
            "Opening[T.B84]   514.0885    252.478      2.036      0.042      19.113    1009.064\n",
            "Opening[T.B86]  1223.5885    501.881      2.438      0.015     239.668    2207.509\n",
            "Opening[T.B87]   969.5885    501.881      1.932      0.053     -14.332    1953.509\n",
            "Opening[T.B88]   846.5885    501.881      1.687      0.092    -137.332    1830.509\n",
            "Opening[T.B90]   850.9218    122.346      6.955      0.000     611.067    1090.777\n",
            "Opening[T.B91]   976.5885    501.881      1.946      0.052      -7.332    1960.509\n",
            "Opening[T.B92]  1124.5885    501.881      2.241      0.025     140.668    2108.509\n",
            "Opening[T.B93]   432.0885    355.610      1.215      0.224    -265.072    1129.249\n",
            "Opening[T.B94]   423.5885    226.280      1.872      0.061     -20.026     867.203\n",
            "Opening[T.B95]   851.5885    355.610      2.395      0.017     154.428    1548.749\n",
            "Opening[T.B96]   467.5885    501.881      0.932      0.352    -516.332    1451.509\n",
            "Opening[T.B98]   974.5885    290.946      3.350      0.001     404.198    1544.978\n",
            "Opening[T.C00]   182.1073     47.070      3.869      0.000      89.828     274.386\n",
            "Opening[T.C01]   557.6456     90.551      6.158      0.000     380.123     735.168\n",
            "Opening[T.C02]   385.7624     68.322      5.646      0.000     251.820     519.705\n",
            "Opening[T.C03]   661.1885    226.280      2.922      0.003     217.574    1104.803\n",
            "Opening[T.C05]  1030.3385    252.478      4.081      0.000     535.363    1525.314\n",
            "Opening[T.C07]   433.0885    355.610      1.218      0.223    -264.072    1130.249\n",
            "Opening[T.C10]   239.4218    122.346      1.957      0.050      -0.433     479.277\n",
            "Opening[T.C11]   434.3663    170.014      2.555      0.011     101.060     767.673\n",
            "Opening[T.C12]   946.0885    355.610      2.660      0.008     248.928    1643.249\n",
            "Opening[T.C14]   573.0885    355.610      1.612      0.107    -124.072    1270.249\n",
            "Opening[T.C15]  -115.1615    252.478     -0.456      0.648    -610.137     379.814\n",
            "Opening[T.C16]   988.0885    355.610      2.779      0.005     290.928    1685.249\n",
            "Opening[T.C17]  1449.5885    501.881      2.888      0.004     465.668    2433.509\n",
            "Opening[T.C18]   805.5885    290.946      2.769      0.006     235.198    1375.978\n",
            "Opening[T.C20]   -80.5313     48.361     -1.665      0.096    -175.342      14.280\n",
            "Opening[T.C21]     1.5002     91.708      0.016      0.987    -178.290     181.290\n",
            "Opening[T.C22]   158.8385    107.166      1.482      0.138     -51.256     368.933\n",
            "Opening[T.C23]    47.6420     74.242      0.642      0.521     -97.906     193.190\n",
            "Opening[T.C24]    57.7248    111.511      0.518      0.605    -160.888     276.338\n",
            "Opening[T.C25]   175.8385    179.969      0.977      0.329    -176.984     528.661\n",
            "Opening[T.C26]    16.2355    125.652      0.129      0.897    -230.100     262.571\n",
            "Opening[T.C27]   253.5885    142.578      1.779      0.075     -25.932     533.109\n",
            "Opening[T.C28]  -195.4115    290.946     -0.672      0.502    -765.802     374.978\n",
            "Opening[T.C29]   929.5885    355.610      2.614      0.009     232.428    1626.749\n",
            "Opening[T.C30]   132.6361    113.919      1.164      0.244     -90.699     355.971\n",
            "Opening[T.C33]   275.6885    161.609      1.706      0.088     -41.141     592.518\n",
            "Opening[T.C34]   247.0667    109.265      2.261      0.024      32.856     461.278\n",
            "Opening[T.C35]   783.5885    501.881      1.561      0.119    -200.332    1767.509\n",
            "Opening[T.C36]   703.5885    355.610      1.979      0.048       6.428    1400.749\n",
            "Opening[T.C37]   459.0885    355.610      1.291      0.197    -238.072    1156.249\n",
            "Opening[T.C39]   809.5885    501.881      1.613      0.107    -174.332    1793.509\n",
            "Opening[T.C40]    64.4784     57.738      1.117      0.264     -48.716     177.672\n",
            "Opening[T.C41]   182.6951     52.006      3.513      0.000      80.738     284.652\n",
            "Opening[T.C42]   138.6117     62.843      2.206      0.027      15.411     261.813\n",
            "Opening[T.C43]  -109.4115    290.946     -0.376      0.707    -679.802     460.978\n",
            "Opening[T.C44]    77.8167     61.310      1.269      0.204     -42.380     198.014\n",
            "Opening[T.C45]   517.6230     73.194      7.072      0.000     374.129     661.117\n",
            "Opening[T.C46]   102.8204     68.322      1.505      0.132     -31.122     236.763\n",
            "Opening[T.C47]   436.2808    142.578      3.060      0.002     156.761     715.801\n",
            "Opening[T.C48]   296.0051    107.166      2.762      0.006      85.911     506.100\n",
            "Opening[T.C49]   225.0885    355.610      0.633      0.527    -472.072     922.249\n",
            "Opening[T.C50]   163.8962     52.788      3.105      0.002      60.408     267.384\n",
            "Opening[T.C51]   158.2551    290.946      0.544      0.587    -412.135     728.645\n",
            "Opening[T.C52]   659.5885    355.610      1.855      0.064     -37.572    1356.749\n",
            "Opening[T.C53]   312.4306    119.311      2.619      0.009      78.526     546.335\n",
            "Opening[T.C54]   618.0170    192.011      3.219      0.001     241.586     994.449\n",
            "Opening[T.C55]   268.2407     61.310      4.375      0.000     148.044     388.438\n",
            "Opening[T.C56]   544.0885    355.610      1.530      0.126    -153.072    1241.249\n",
            "Opening[T.C57]    35.5279     92.919      0.382      0.702    -146.636     217.692\n",
            "Opening[T.C58]   343.9885    226.280      1.520      0.129     -99.626     787.603\n",
            "Opening[T.C59]   941.0885    355.610      2.646      0.008     243.928    1638.249\n",
            "Opening[T.C60]   286.9947     94.188      3.047      0.002     102.342     471.648\n",
            "Opening[T.C61]   307.8192    142.578      2.159      0.031      28.299     587.339\n",
            "Opening[T.C62]   367.9141     82.862      4.440      0.000     205.466     530.362\n",
            "Opening[T.C64]   494.0885    137.660      3.589      0.000     224.210     763.966\n",
            "Opening[T.C65]   399.5885     95.521      4.183      0.000     212.322     586.855\n",
            "Opening[T.C66]   572.0329    170.014      3.365      0.001     238.726     905.340\n",
            "Opening[T.C67]   925.3028    192.011      4.819      0.000     548.871    1301.734\n",
            "Opening[T.C68]   228.9959    101.603      2.254      0.024      29.807     428.185\n",
            "Opening[T.C69]   458.0885    252.478      1.814      0.070     -36.887     953.064\n",
            "Opening[T.C70]   105.1599    113.919      0.923      0.356    -118.175     328.495\n",
            "Opening[T.C72]    82.5885    355.610      0.232      0.816    -614.572     779.749\n",
            "Opening[T.C74]   893.5885    501.881      1.780      0.075     -90.332    1877.509\n",
            "Opening[T.C77]   693.2551    122.346      5.666      0.000     453.400     933.110\n",
            "Opening[T.C78]   643.0885    179.969      3.573      0.000     290.266     995.911\n",
            "Opening[T.C79]   328.5885    355.610      0.924      0.356    -368.572    1025.749\n",
            "Opening[T.C80]  1129.9218    290.946      3.884      0.000     559.532    1700.312\n",
            "Opening[T.C81]  2067.5885    501.881      4.120      0.000    1083.668    3051.509\n",
            "Opening[T.C84]  -192.4115    290.946     -0.661      0.508    -762.802     377.978\n",
            "Opening[T.C88]   674.5885    252.478      2.672      0.008     179.613    1169.564\n",
            "Opening[T.C89]   706.5885    501.881      1.408      0.159    -277.332    1690.509\n",
            "Opening[T.C91]   245.5885    290.946      0.844      0.399    -324.802     815.978\n",
            "Opening[T.C92]  -342.4115    501.881     -0.682      0.495   -1326.332     641.509\n",
            "Opening[T.D00]   183.8742     47.624      3.861      0.000      90.509     277.239\n",
            "Opening[T.D01]    13.8643     98.399      0.141      0.888    -179.044     206.772\n",
            "Opening[T.D02]   387.0922     53.763      7.200      0.000     281.691     492.493\n",
            "Opening[T.D03]   769.7885    226.280      3.402      0.001     326.174    1213.403\n",
            "Opening[T.D04]   469.4346    142.578      3.292      0.001     189.914     748.955\n",
            "Opening[T.D05]   540.3028    192.011      2.814      0.005     163.871     916.734\n",
            "Opening[T.D06]   326.2635     85.461      3.818      0.000     158.720     493.807\n",
            "Opening[T.D07]   230.1440    170.014      1.354      0.176    -103.163     563.451\n",
            "Opening[T.D08]   187.9885    226.280      0.831      0.406    -255.626     631.603\n",
            "Opening[T.D10]   283.3885    105.197      2.694      0.007      77.153     489.623\n",
            "Opening[T.D11]   447.5885    290.946      1.538      0.124    -122.802    1017.978\n",
            "Opening[T.D12]   880.1885    226.280      3.890      0.000     436.574    1323.803\n",
            "Opening[T.D15]   344.4635    179.969      1.914      0.056      -8.359     697.286\n",
            "Opening[T.D17]   150.5885    501.881      0.300      0.764    -833.332    1134.509\n",
            "Opening[T.D20]   193.1191     78.433      2.462      0.014      39.354     346.884\n",
            "Opening[T.D21]   356.1599    192.011      1.855      0.064     -20.272     732.591\n",
            "Opening[T.D24]   355.5885    501.881      0.709      0.479    -628.332    1339.509\n",
            "Opening[T.D25]   987.5885    501.881      1.968      0.049       3.668    1971.509\n",
            "Opening[T.D26]   -20.4115    355.610     -0.057      0.954    -717.572     676.749\n",
            "Opening[T.D30]   374.1473     91.708      4.080      0.000     194.357     553.937\n",
            "Opening[T.D31]   419.2355    125.652      3.336      0.001     172.900     665.571\n",
            "Opening[T.D32]   447.6885    161.609      2.770      0.006     130.859     764.518\n",
            "Opening[T.D35]   539.0885    129.269      4.170      0.000     285.660     792.517\n",
            "Opening[T.D37]   656.1885    226.280      2.900      0.004     212.574    1099.803\n",
            "Opening[T.D41]   551.9218    290.946      1.897      0.058     -18.468    1122.312\n",
            "Opening[T.D43]   625.5885    206.981      3.022      0.003     219.810    1031.367\n",
            "Opening[T.D44]   664.5885    355.610      1.869      0.062     -32.572    1361.749\n",
            "Opening[T.D46]   679.0885    179.969      3.773      0.000     326.266    1031.911\n",
            "Opening[T.D48]   496.5885    501.881      0.989      0.322    -487.332    1480.509\n",
            "Opening[T.D50]   117.5885    206.981      0.568      0.570    -288.190     523.367\n",
            "Opening[T.D51]   724.5885    501.881      1.444      0.149    -259.332    1708.509\n",
            "Opening[T.D53]   956.7885    226.280      4.228      0.000     513.174    1400.403\n",
            "Opening[T.D55]   829.2551    290.946      2.850      0.004     258.865    1399.645\n",
            "Opening[T.D56]  1041.5885    501.881      2.075      0.038      57.668    2025.509\n",
            "Opening[T.D60]   890.5885    501.881      1.775      0.076     -93.332    1874.509\n",
            "Opening[T.D70]   899.5885    501.881      1.792      0.073     -84.332    1883.509\n",
            "Opening[T.D80]   973.9218    290.946      3.347      0.001     403.532    1544.312\n",
            "Opening[T.D85]   868.2551    290.946      2.984      0.003     297.865    1438.645\n",
            "Opening[T.D87]   765.5885    501.881      1.525      0.127    -218.332    1749.509\n",
            "Opening[T.D92]   343.5885    501.881      0.685      0.494    -640.332    1327.509\n",
            "Opening[T.D93]   766.5885    501.881      1.527      0.127    -217.332    1750.509\n",
            "Opening[T.D94]   621.9218    290.946      2.138      0.033      51.532    1192.312\n",
            "Opening[T.E00]   377.5885    154.392      2.446      0.014      74.907     680.270\n",
            "Opening[T.E01]   953.5885    501.881      1.900      0.057     -30.332    1937.509\n",
            "Opening[T.E10]   438.5885    226.280      1.938      0.053      -5.026     882.203\n",
            "Opening[T.E11]   -39.4115    501.881     -0.079      0.937   -1023.332     944.509\n",
            "Opening[T.E12]   569.5885    501.881      1.135      0.256    -414.332    1553.509\n",
            "Opening[T.E14]  1203.5885    501.881      2.398      0.017     219.668    2187.509\n",
            "Opening[T.E16]  1546.5885    501.881      3.082      0.002     562.668    2530.509\n",
            "Opening[T.E17]   925.5885    501.881      1.844      0.065     -58.332    1909.509\n",
            "Opening[T.E20]   625.3532    125.652      4.977      0.000     379.018     871.689\n",
            "Opening[T.E21]  1111.0885    355.610      3.124      0.002     413.928    1808.249\n",
            "Opening[T.E24]   830.5885    501.881      1.655      0.098    -153.332    1814.509\n",
            "Opening[T.E30]  1269.5885    252.478      5.029      0.000     774.613    1764.564\n",
            "Opening[T.E32]   780.2551    290.946      2.682      0.007     209.865    1350.645\n",
            "Opening[T.E34]  1553.5885    501.881      3.096      0.002     569.668    2537.509\n",
            "Opening[T.E38]   569.5885    501.881      1.135      0.256    -414.332    1553.509\n",
            "Opening[T.E44]   904.5885    501.881      1.802      0.072     -79.332    1888.509\n",
            "Opening[T.E51]  1260.5885    501.881      2.512      0.012     276.668    2244.509\n",
            "Opening[T.E53]  1793.5885    501.881      3.574      0.000     809.668    2777.509\n",
            "Opening[T.E54]  1786.5885    501.881      3.560      0.000     802.668    2770.509\n",
            "Opening[T.E59]  1361.5885    501.881      2.713      0.007     377.668    2345.509\n",
            "Opening[T.E60]    69.5885    355.610      0.196      0.845    -627.572     766.749\n",
            "Opening[T.E61]   402.5885    142.578      2.824      0.005     123.068     682.109\n",
            "Opening[T.E70]   386.0885    355.610      1.086      0.278    -311.072    1083.249\n",
            "Opening[T.E71]   235.5885    501.881      0.469      0.639    -748.332    1219.509\n",
            "Opening[T.E73]  1423.5885    355.610      4.003      0.000     726.428    2120.749\n",
            "Opening[T.E76]   951.0885    355.610      2.675      0.008     253.928    1648.249\n",
            "Opening[T.E77]   602.8385    252.478      2.388      0.017     107.863    1097.814\n",
            "Opening[T.E81]   276.5885    501.881      0.551      0.582    -707.332    1260.509\n",
            "Opening[T.E90]   580.3385    179.969      3.225      0.001     227.516     933.161\n",
            "Opening[T.E91]   652.5885    355.610      1.835      0.067     -44.572    1349.749\n",
            "Opening[T.E92]   766.5885    501.881      1.527      0.127    -217.332    1750.509\n",
            "==============================================================================\n",
            "Omnibus:                      139.862   Durbin-Watson:                   0.608\n",
            "Prob(Omnibus):                  0.000   Jarque-Bera (JB):              152.106\n",
            "Skew:                           0.407   Prob(JB):                     9.34e-34\n",
            "Kurtosis:                       3.257   Cond. No.                         92.1\n",
            "==============================================================================\n",
            "\n",
            "Warnings:\n",
            "[1] Standard Errors assume that the covariance matrix of the errors is correctly specified.\n"
          ],
          "name": "stdout"
        }
      ]
    },
    {
      "cell_type": "markdown",
      "metadata": {
        "id": "gNQYRfOnXlzY"
      },
      "source": [
        "# Findings"
      ]
    },
    {
      "cell_type": "markdown",
      "metadata": {
        "id": "DU1ryAf3XqZv"
      },
      "source": [
        "\n",
        "\n",
        "*   Initial observations\n",
        "    *   White has a clear advantage in the game\n",
        "\n",
        "        *   49.3% win percentage vs 46% for black \n",
        "        *   Asymmetrical distribution for difference in ELO and draw percentage\n",
        "\n",
        "    *   54% matches end in a resignation while only 34.2% end in checkmate\n",
        "    *   Draws occur in roughly 4.5% of games with limited variablity based on difference in ELO\n",
        "\n",
        "\n",
        "\n",
        "\n",
        "\n",
        "*   Significance of ELO\n",
        "    *   When the difference in ELO was ± 50 there was no significant difference in win percentage\n",
        "\n",
        "    *   However, beyond this range there was a clear trend\n",
        "        *   White acheived an average win percentage of roughly 60% after a 100 point advantage in ELO, 75% after a 200 point advantage, and 85% after a 500 point advanage. \n",
        "    * Although the correlation is strong, an advantage in ELO was shown to be far from a guarenteed victory \n",
        "\n",
        "\n",
        "\n",
        "\n",
        "\n",
        "*   Time and ELO\n",
        "    *   Although less time may at first appear to even the playing field offering less time to think, it seems to actually add to the skill barrier and strengthen the significance of ELO\n",
        "\n",
        "        *   The 5+5, 10+0, and 15+0 matches displayed much stronger correlation with ELO than the 15+15 and 10+5 matches\n",
        "            \n",
        "            \n",
        "           *   Uneven distribution of games resulted in low sample sizes which may affect results \n",
        "\n",
        "\n",
        "\n",
        "*   Opening Sequence and ELO\n",
        "    *   Many of the opening sequences had strong correlations with total ELO\n",
        "\n",
        "        *   The openings associated with the highest total points of ELO were C81, A71, and E53\n",
        "        *   The openings associated with the lowest total points of ELO were not statisitcally significant\n",
        "\n",
        "            *   Furthermore, of the openings with statistically significant coefficients, there were many openings associated with similar total points of ELO at the bottom of the range \n",
        "\n",
        "\n",
        "\n",
        "\n",
        "\n",
        "\n",
        "\n",
        "\n",
        "\n",
        "\n",
        "\n",
        "\n",
        "\n"
      ]
    }
  ]
}